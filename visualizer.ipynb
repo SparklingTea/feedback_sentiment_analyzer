{
 "cells": [
  {
   "cell_type": "code",
   "execution_count": 1,
   "id": "d3c4e9d2",
   "metadata": {
    "_cell_guid": "b1076dfc-b9ad-4769-8c92-a6c4dae69d19",
    "_uuid": "8f2839f25d086af736a60e9eeb907d3b93b6e0e5",
    "execution": {
     "iopub.execute_input": "2025-04-07T17:35:58.948304Z",
     "iopub.status.busy": "2025-04-07T17:35:58.947766Z",
     "iopub.status.idle": "2025-04-07T17:36:00.169070Z",
     "shell.execute_reply": "2025-04-07T17:36:00.167450Z"
    },
    "papermill": {
     "duration": 1.228821,
     "end_time": "2025-04-07T17:36:00.171496",
     "exception": false,
     "start_time": "2025-04-07T17:35:58.942675",
     "status": "completed"
    },
    "tags": []
   },
   "outputs": [],
   "source": [
    "# This Python 3 environment comes with many helpful analytics libraries installed\n",
    "# It is defined by the kaggle/python Docker image: https://github.com/kaggle/docker-python\n",
    "# For example, here's several helpful packages to load\n",
    "\n",
    "import numpy as np # linear algebra\n",
    "import pandas as pd # data processing, CSV file I/O (e.g. pd.read_csv)\n",
    "\n",
    "# Input data files are available in the read-only \"../input/\" directory\n",
    "# For example, running this (by clicking run or pressing Shift+Enter) will list all files under the input directory\n",
    "\n",
    "import os\n",
    "for dirname, _, filenames in os.walk('/kaggle/input'):\n",
    "    for filename in filenames:\n",
    "        print(os.path.join(dirname, filename))\n",
    "\n",
    "# You can write up to 20GB to the current directory (/kaggle/working/) that gets preserved as output when you create a version using \"Save & Run All\" \n",
    "# You can also write temporary files to /kaggle/temp/, but they won't be saved outside of the current session"
   ]
  },
  {
   "cell_type": "code",
   "execution_count": 2,
   "id": "2315b04b",
   "metadata": {
    "execution": {
     "iopub.execute_input": "2025-04-07T17:36:00.179522Z",
     "iopub.status.busy": "2025-04-07T17:36:00.178994Z",
     "iopub.status.idle": "2025-04-07T17:36:06.503029Z",
     "shell.execute_reply": "2025-04-07T17:36:06.501361Z"
    },
    "papermill": {
     "duration": 6.330119,
     "end_time": "2025-04-07T17:36:06.505209",
     "exception": false,
     "start_time": "2025-04-07T17:36:00.175090",
     "status": "completed"
    },
    "tags": []
   },
   "outputs": [
    {
     "name": "stdout",
     "output_type": "stream",
     "text": [
      "Requirement already satisfied: matplotlib in /usr/local/lib/python3.10/dist-packages (3.7.5)\r\n",
      "Requirement already satisfied: seaborn in /usr/local/lib/python3.10/dist-packages (0.12.2)\r\n",
      "Requirement already satisfied: plotly in /usr/local/lib/python3.10/dist-packages (5.24.1)\r\n",
      "Requirement already satisfied: contourpy>=1.0.1 in /usr/local/lib/python3.10/dist-packages (from matplotlib) (1.3.1)\r\n",
      "Requirement already satisfied: cycler>=0.10 in /usr/local/lib/python3.10/dist-packages (from matplotlib) (0.12.1)\r\n",
      "Requirement already satisfied: fonttools>=4.22.0 in /usr/local/lib/python3.10/dist-packages (from matplotlib) (4.55.3)\r\n",
      "Requirement already satisfied: kiwisolver>=1.0.1 in /usr/local/lib/python3.10/dist-packages (from matplotlib) (1.4.7)\r\n",
      "Requirement already satisfied: numpy<2,>=1.20 in /usr/local/lib/python3.10/dist-packages (from matplotlib) (1.26.4)\r\n",
      "Requirement already satisfied: packaging>=20.0 in /usr/local/lib/python3.10/dist-packages (from matplotlib) (24.2)\r\n",
      "Requirement already satisfied: pillow>=6.2.0 in /usr/local/lib/python3.10/dist-packages (from matplotlib) (11.0.0)\r\n",
      "Requirement already satisfied: pyparsing>=2.3.1 in /usr/local/lib/python3.10/dist-packages (from matplotlib) (3.2.0)\r\n",
      "Requirement already satisfied: python-dateutil>=2.7 in /usr/local/lib/python3.10/dist-packages (from matplotlib) (2.9.0.post0)\r\n",
      "Requirement already satisfied: pandas>=0.25 in /usr/local/lib/python3.10/dist-packages (from seaborn) (2.2.3)\r\n",
      "Requirement already satisfied: tenacity>=6.2.0 in /usr/local/lib/python3.10/dist-packages (from plotly) (9.0.0)\r\n",
      "Requirement already satisfied: mkl_fft in /usr/local/lib/python3.10/dist-packages (from numpy<2,>=1.20->matplotlib) (1.3.8)\r\n",
      "Requirement already satisfied: mkl_random in /usr/local/lib/python3.10/dist-packages (from numpy<2,>=1.20->matplotlib) (1.2.4)\r\n",
      "Requirement already satisfied: mkl_umath in /usr/local/lib/python3.10/dist-packages (from numpy<2,>=1.20->matplotlib) (0.1.1)\r\n",
      "Requirement already satisfied: mkl in /usr/local/lib/python3.10/dist-packages (from numpy<2,>=1.20->matplotlib) (2025.0.1)\r\n",
      "Requirement already satisfied: tbb4py in /usr/local/lib/python3.10/dist-packages (from numpy<2,>=1.20->matplotlib) (2022.0.0)\r\n",
      "Requirement already satisfied: mkl-service in /usr/local/lib/python3.10/dist-packages (from numpy<2,>=1.20->matplotlib) (2.4.1)\r\n",
      "Requirement already satisfied: pytz>=2020.1 in /usr/local/lib/python3.10/dist-packages (from pandas>=0.25->seaborn) (2025.1)\r\n",
      "Requirement already satisfied: tzdata>=2022.7 in /usr/local/lib/python3.10/dist-packages (from pandas>=0.25->seaborn) (2025.1)\r\n",
      "Requirement already satisfied: six>=1.5 in /usr/local/lib/python3.10/dist-packages (from python-dateutil>=2.7->matplotlib) (1.17.0)\r\n",
      "Requirement already satisfied: intel-openmp>=2024 in /usr/local/lib/python3.10/dist-packages (from mkl->numpy<2,>=1.20->matplotlib) (2024.2.0)\r\n",
      "Requirement already satisfied: tbb==2022.* in /usr/local/lib/python3.10/dist-packages (from mkl->numpy<2,>=1.20->matplotlib) (2022.0.0)\r\n",
      "Requirement already satisfied: tcmlib==1.* in /usr/local/lib/python3.10/dist-packages (from tbb==2022.*->mkl->numpy<2,>=1.20->matplotlib) (1.2.0)\r\n",
      "Requirement already satisfied: intel-cmplr-lib-rt in /usr/local/lib/python3.10/dist-packages (from mkl_umath->numpy<2,>=1.20->matplotlib) (2024.2.0)\r\n",
      "Requirement already satisfied: intel-cmplr-lib-ur==2024.2.0 in /usr/local/lib/python3.10/dist-packages (from intel-openmp>=2024->mkl->numpy<2,>=1.20->matplotlib) (2024.2.0)\r\n",
      "Note: you may need to restart the kernel to use updated packages.\n"
     ]
    }
   ],
   "source": [
    "pip install matplotlib seaborn plotly"
   ]
  },
  {
   "cell_type": "code",
   "execution_count": 3,
   "id": "19dcbca1",
   "metadata": {
    "execution": {
     "iopub.execute_input": "2025-04-07T17:36:06.513840Z",
     "iopub.status.busy": "2025-04-07T17:36:06.513493Z",
     "iopub.status.idle": "2025-04-07T17:36:09.770583Z",
     "shell.execute_reply": "2025-04-07T17:36:09.769406Z"
    },
    "papermill": {
     "duration": 3.263847,
     "end_time": "2025-04-07T17:36:09.772953",
     "exception": false,
     "start_time": "2025-04-07T17:36:06.509106",
     "status": "completed"
    },
    "tags": []
   },
   "outputs": [],
   "source": [
    "import matplotlib.pyplot as plt\n",
    "import seaborn as sns\n",
    "import plotly.express as px"
   ]
  },
  {
   "cell_type": "code",
   "execution_count": 4,
   "id": "8c913381",
   "metadata": {
    "execution": {
     "iopub.execute_input": "2025-04-07T17:36:09.781635Z",
     "iopub.status.busy": "2025-04-07T17:36:09.781061Z",
     "iopub.status.idle": "2025-04-07T17:36:09.786893Z",
     "shell.execute_reply": "2025-04-07T17:36:09.785782Z"
    },
    "papermill": {
     "duration": 0.01213,
     "end_time": "2025-04-07T17:36:09.788850",
     "exception": false,
     "start_time": "2025-04-07T17:36:09.776720",
     "status": "completed"
    },
    "tags": []
   },
   "outputs": [],
   "source": [
    "# Sentiment bar chart\n",
    "def sentiment_bar_chart(df):\n",
    "    sentiment_counts = df['Sentiment'].value_counts()\n",
    "    fig, ax = plt.subplots()\n",
    "    sns.barplot(x=sentiment_counts.index, y=sentiment_counts.values, palette='pastel', ax=ax)\n",
    "    ax.set_title(\"Sentiment Distribution\")\n",
    "    ax.set_ylabel(\"Count\")\n",
    "    ax.set_xlabel(\"Sentiment\")\n",
    "    return fig"
   ]
  },
  {
   "cell_type": "code",
   "execution_count": 5,
   "id": "8dc3b8b1",
   "metadata": {
    "execution": {
     "iopub.execute_input": "2025-04-07T17:36:09.797104Z",
     "iopub.status.busy": "2025-04-07T17:36:09.796632Z",
     "iopub.status.idle": "2025-04-07T17:36:09.800690Z",
     "shell.execute_reply": "2025-04-07T17:36:09.799696Z"
    },
    "papermill": {
     "duration": 0.010244,
     "end_time": "2025-04-07T17:36:09.802636",
     "exception": false,
     "start_time": "2025-04-07T17:36:09.792392",
     "status": "completed"
    },
    "tags": []
   },
   "outputs": [],
   "source": [
    "# # bar chart - lack of perc of total x\n",
    "\n",
    "# sentiment_counts = df['Sentiment'].value_counts()\n",
    "\n",
    "# plt.figure(figsize=(6, 4))\n",
    "# sns.barplot(x=sentiment_counts.index, y=sentiment_counts.values, palette='pastel')\n",
    "# plt.title(\"Sentiment Distribution\")\n",
    "# plt.ylabel(\"Number of Reviews\")\n",
    "# plt.xlabel(\"Sentiment\")\n",
    "# plt.grid(axis='y')\n",
    "# plt.tight_layout()\n",
    "# plt.show()"
   ]
  },
  {
   "cell_type": "code",
   "execution_count": 6,
   "id": "b97fefda",
   "metadata": {
    "execution": {
     "iopub.execute_input": "2025-04-07T17:36:09.811193Z",
     "iopub.status.busy": "2025-04-07T17:36:09.810739Z",
     "iopub.status.idle": "2025-04-07T17:36:09.815422Z",
     "shell.execute_reply": "2025-04-07T17:36:09.813896Z"
    },
    "papermill": {
     "duration": 0.011136,
     "end_time": "2025-04-07T17:36:09.817320",
     "exception": false,
     "start_time": "2025-04-07T17:36:09.806184",
     "status": "completed"
    },
    "tags": []
   },
   "outputs": [],
   "source": [
    "# # pie chart - good\n",
    "\n",
    "# plt.figure(figsize=(6, 6))\n",
    "# plt.pie(sentiment_counts.values, labels=sentiment_counts.index, autopct='%1.1f%%', startangle=140)\n",
    "# plt.title(\"Sentiment Breakdown (Pie Chart)\")\n",
    "# plt.axis('equal')\n",
    "# plt.show()"
   ]
  },
  {
   "cell_type": "code",
   "execution_count": 7,
   "id": "fe4be8a1",
   "metadata": {
    "execution": {
     "iopub.execute_input": "2025-04-07T17:36:09.825723Z",
     "iopub.status.busy": "2025-04-07T17:36:09.825385Z",
     "iopub.status.idle": "2025-04-07T17:36:09.830992Z",
     "shell.execute_reply": "2025-04-07T17:36:09.829717Z"
    },
    "papermill": {
     "duration": 0.012063,
     "end_time": "2025-04-07T17:36:09.833066",
     "exception": false,
     "start_time": "2025-04-07T17:36:09.821003",
     "status": "completed"
    },
    "tags": []
   },
   "outputs": [],
   "source": [
    "def sentiment_pie_chart(df, sentiment_col='Sentiment'):\n",
    "    sentiment_counts = df[sentiment_col].value_counts()\n",
    "    fig, ax = plt.subplots(figsize=(6, 6))\n",
    "    ax.pie(sentiment_counts.values,\n",
    "           labels=sentiment_counts.index,\n",
    "           autopct='%1.1f%%',\n",
    "           startangle=140,\n",
    "           colors=sns.color_palette('pastel')[:len(sentiment_counts)])\n",
    "    ax.set_title(\"Sentiment Breakdown (Pie Chart)\")\n",
    "    ax.axis('equal')\n",
    "    return fig"
   ]
  },
  {
   "cell_type": "code",
   "execution_count": 8,
   "id": "186060a8",
   "metadata": {
    "execution": {
     "iopub.execute_input": "2025-04-07T17:36:09.842198Z",
     "iopub.status.busy": "2025-04-07T17:36:09.841766Z",
     "iopub.status.idle": "2025-04-07T17:36:09.846485Z",
     "shell.execute_reply": "2025-04-07T17:36:09.845344Z"
    },
    "papermill": {
     "duration": 0.011825,
     "end_time": "2025-04-07T17:36:09.848631",
     "exception": false,
     "start_time": "2025-04-07T17:36:09.836806",
     "status": "completed"
    },
    "tags": []
   },
   "outputs": [],
   "source": [
    "# from wordcloud import WordCloud\n",
    "\n",
    "# for sentiment in sentiment_counts.index:\n",
    "#     text = \" \".join(df[df['Sentiment'] == sentiment]['reviews.text'])\n",
    "#     wordcloud = WordCloud(width=800, height=400, background_color='white').generate(text)\n",
    "\n",
    "#     plt.figure(figsize=(10, 5))\n",
    "#     plt.imshow(wordcloud, interpolation='bilinear')\n",
    "#     plt.title(f\"Most Common Words in {sentiment} Reviews\")\n",
    "#     plt.axis('off')\n",
    "#     plt.show()"
   ]
  },
  {
   "cell_type": "code",
   "execution_count": 9,
   "id": "c3cb1b58",
   "metadata": {
    "execution": {
     "iopub.execute_input": "2025-04-07T17:36:09.857269Z",
     "iopub.status.busy": "2025-04-07T17:36:09.856879Z",
     "iopub.status.idle": "2025-04-07T17:36:09.862614Z",
     "shell.execute_reply": "2025-04-07T17:36:09.861477Z"
    },
    "papermill": {
     "duration": 0.0124,
     "end_time": "2025-04-07T17:36:09.864688",
     "exception": false,
     "start_time": "2025-04-07T17:36:09.852288",
     "status": "completed"
    },
    "tags": []
   },
   "outputs": [],
   "source": [
    "def generate_wordcloud(df, sentiment_col, text_col, sentiment):\n",
    "    text = \" \".join(df[df[sentiment_col] == sentiment][text_col].astype(str))\n",
    "    wordcloud = WordCloud(width=800, height=400, background_color='white').generate(text)\n",
    "    fig, ax = plt.subplots(figsize=(10, 5))\n",
    "    ax.imshow(wordcloud, interpolation='bilinear')\n",
    "    ax.axis('off')\n",
    "    ax.set_title(f\"Word Cloud - {sentiment} Reviews\")\n",
    "    return fig"
   ]
  },
  {
   "cell_type": "code",
   "execution_count": 10,
   "id": "ba4dfecf",
   "metadata": {
    "execution": {
     "iopub.execute_input": "2025-04-07T17:36:09.873952Z",
     "iopub.status.busy": "2025-04-07T17:36:09.873611Z",
     "iopub.status.idle": "2025-04-07T17:36:09.877643Z",
     "shell.execute_reply": "2025-04-07T17:36:09.876556Z"
    },
    "papermill": {
     "duration": 0.01063,
     "end_time": "2025-04-07T17:36:09.879505",
     "exception": false,
     "start_time": "2025-04-07T17:36:09.868875",
     "status": "completed"
    },
    "tags": []
   },
   "outputs": [],
   "source": [
    "# fig = px.pie(\n",
    "#     df,\n",
    "#     names='Sentiment',\n",
    "#     title='Interactive Sentiment Breakdown',\n",
    "#     hole=0.3  # for donut-style\n",
    "# )\n",
    "# fig.show()"
   ]
  },
  {
   "cell_type": "code",
   "execution_count": 11,
   "id": "c71a87f7",
   "metadata": {
    "execution": {
     "iopub.execute_input": "2025-04-07T17:36:09.888716Z",
     "iopub.status.busy": "2025-04-07T17:36:09.888358Z",
     "iopub.status.idle": "2025-04-07T17:36:09.893219Z",
     "shell.execute_reply": "2025-04-07T17:36:09.891702Z"
    },
    "papermill": {
     "duration": 0.012119,
     "end_time": "2025-04-07T17:36:09.895449",
     "exception": false,
     "start_time": "2025-04-07T17:36:09.883330",
     "status": "completed"
    },
    "tags": []
   },
   "outputs": [],
   "source": [
    "# # Time-based trends\n",
    "\n",
    "# df['reviews.date'] = pd.to_datetime(df['reviews.date'], errors='coerce')\n",
    "# df['month'] = df['reviews.date'].dt.to_period('M')\n",
    "\n",
    "# monthly_sentiment = df.groupby(['month', 'Sentiment']).size().unstack().fillna(0)\n",
    "\n",
    "# monthly_sentiment.plot(figsize=(10, 6))\n",
    "# plt.title(\"Sentiment Trends Over Time\")\n",
    "# plt.xlabel(\"Month\")\n",
    "# plt.ylabel(\"Review Count\")\n",
    "# plt.grid(True)\n",
    "# plt.tight_layout()\n",
    "# plt.show()"
   ]
  },
  {
   "cell_type": "code",
   "execution_count": 12,
   "id": "10e446cc",
   "metadata": {
    "execution": {
     "iopub.execute_input": "2025-04-07T17:36:09.905820Z",
     "iopub.status.busy": "2025-04-07T17:36:09.905468Z",
     "iopub.status.idle": "2025-04-07T17:36:09.911680Z",
     "shell.execute_reply": "2025-04-07T17:36:09.910632Z"
    },
    "papermill": {
     "duration": 0.013117,
     "end_time": "2025-04-07T17:36:09.913668",
     "exception": false,
     "start_time": "2025-04-07T17:36:09.900551",
     "status": "completed"
    },
    "tags": []
   },
   "outputs": [],
   "source": [
    "def sentiment_trend_chart(df, date_col, sentiment_col='Sentiment'):\n",
    "    if date_col not in df.columns:\n",
    "        raise ValueError(f\"Date column '{date_col}' not found in DataFrame.\")\n",
    "    \n",
    "    # Convert to datetime and round to month (or day for fine grain)\n",
    "    df[date_col] = pd.to_datetime(df[date_col], errors='coerce')\n",
    "    df['TimeGroup'] = df[date_col].dt.to_period('M').astype(str)\n",
    "\n",
    "    # Group by time and sentiment\n",
    "    trend_df = df.groupby(['TimeGroup', sentiment_col]).size().reset_index(name='Count')\n",
    "\n",
    "    fig = px.line(trend_df, x='TimeGroup', y='Count', color=sentiment_col,\n",
    "                  title='Sentiment Trends Over Time',\n",
    "                  labels={'TimeGroup': 'Month', 'Count': 'Review Count'})\n",
    "    return fig"
   ]
  }
 ],
 "metadata": {
  "kaggle": {
   "accelerator": "none",
   "dataSources": [],
   "isGpuEnabled": false,
   "isInternetEnabled": true,
   "language": "python",
   "sourceType": "notebook"
  },
  "kernelspec": {
   "display_name": "Python 3",
   "language": "python",
   "name": "python3"
  },
  "language_info": {
   "codemirror_mode": {
    "name": "ipython",
    "version": 3
   },
   "file_extension": ".py",
   "mimetype": "text/x-python",
   "name": "python",
   "nbconvert_exporter": "python",
   "pygments_lexer": "ipython3",
   "version": "3.10.12"
  },
  "papermill": {
   "default_parameters": {},
   "duration": 14.952957,
   "end_time": "2025-04-07T17:36:10.740179",
   "environment_variables": {},
   "exception": null,
   "input_path": "__notebook__.ipynb",
   "output_path": "__notebook__.ipynb",
   "parameters": {},
   "start_time": "2025-04-07T17:35:55.787222",
   "version": "2.6.0"
  }
 },
 "nbformat": 4,
 "nbformat_minor": 5
}
